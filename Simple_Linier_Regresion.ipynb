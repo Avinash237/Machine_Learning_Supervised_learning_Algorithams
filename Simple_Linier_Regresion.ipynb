{
 "cells": [
  {
   "cell_type": "markdown",
   "metadata": {},
   "source": [
    "A simple linear regression model only has two explanatory variables- one dependent and one independent variable."
   ]
  },
  {
   "cell_type": "markdown",
   "metadata": {},
   "source": [
    "The formula representing a simple linear regression is-\n",
    "\n",
    "y = b0 + b1X + e"
   ]
  },
  {
   "cell_type": "markdown",
   "metadata": {},
   "source": [
    "y : represents the predicted value of the dependent variable according to the given value of the independent variable.\n",
    "b0 : represents the intercept, the value of the function when the independent variable is 0\n",
    "b1 : is the regression coefficient, it tells how much the values of the function will scale to the independent variable\n",
    "X : represents the independent variable of the function \n",
    "e : represents error the model is creating"
   ]
  },
  {
   "cell_type": "code",
   "execution_count": null,
   "metadata": {},
   "outputs": [],
   "source": []
  }
 ],
 "metadata": {
  "kernelspec": {
   "display_name": "Python 3",
   "language": "python",
   "name": "python3"
  },
  "language_info": {
   "codemirror_mode": {
    "name": "ipython",
    "version": 3
   },
   "file_extension": ".py",
   "mimetype": "text/x-python",
   "name": "python",
   "nbconvert_exporter": "python",
   "pygments_lexer": "ipython3",
   "version": "3.7.3"
  }
 },
 "nbformat": 4,
 "nbformat_minor": 2
}
